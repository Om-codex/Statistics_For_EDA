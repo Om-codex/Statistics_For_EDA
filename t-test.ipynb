{
 "cells": [
  {
   "cell_type": "code",
   "execution_count": 2,
   "id": "a68abc02",
   "metadata": {},
   "outputs": [],
   "source": [
    "import numpy as np\n",
    "import pandas as pd\n",
    "import seaborn as sns"
   ]
  },
  {
   "cell_type": "code",
   "execution_count": 3,
   "metadata": {},
   "outputs": [],
   "source": [
    "train = pd.read_csv(\"train.csv\").drop(columns = ['Survived'])\n",
    "test  = pd.read_csv(\"train.csv\")"
   ]
  },
  {
   "cell_type": "code",
   "execution_count": 4,
   "metadata": {},
   "outputs": [],
   "source": [
    "final_df = pd.concat([train,test]).sample(1309)"
   ]
  },
  {
   "cell_type": "code",
   "execution_count": 6,
   "metadata": {},
   "outputs": [],
   "source": [
    "pop = final_df['Age'].dropna()"
   ]
  },
  {
   "cell_type": "code",
   "execution_count": 7,
   "id": "0ceeeb49",
   "metadata": {},
   "outputs": [],
   "source": [
    "pop_mean = 35"
   ]
  },
  {
   "cell_type": "code",
   "execution_count": 8,
   "metadata": {},
   "outputs": [],
   "source": [
    "sample_age = pop.sample(25).values"
   ]
  },
  {
   "cell_type": "code",
   "execution_count": 9,
   "id": "a9e740d1",
   "metadata": {},
   "outputs": [
    {
     "data": {
      "text/plain": [
       "array([17. , 28.5, 39. ,  3. , 44. , 30. , 56. , 50. , 35. , 19. , 24. ,\n",
       "       41. , 21. , 26. , 31. , 28. , 30. , 25. , 34. , 43. , 36. , 22. ,\n",
       "       30. , 54. , 23. ])"
      ]
     },
     "execution_count": 9,
     "metadata": {},
     "output_type": "execute_result"
    }
   ],
   "source": [
    "sample_age"
   ]
  },
  {
   "cell_type": "markdown",
   "id": "2ea6f405",
   "metadata": {},
   "source": [
    "# #Single Sample t-test "
   ]
  },
  {
   "cell_type": "markdown",
   "id": "2e24e4ad",
   "metadata": {},
   "source": [
    "## H<sub>0</sub> ==> The mean age is 35\n",
    "## H<sub>1</sub> ==> The mean age is less than 35"
   ]
  },
  {
   "cell_type": "code",
   "execution_count": 14,
   "id": "7c41534d",
   "metadata": {},
   "outputs": [
    {
     "name": "stdout",
     "output_type": "stream",
     "text": [
      "ShapiroResult(statistic=0.9742773313871282, pvalue=0.7538006610107229)\n"
     ]
    }
   ],
   "source": [
    "# check for normality using shapiro wilk test\n",
    "from scipy.stats import shapiro\n",
    "\n",
    "shapiro_age = shapiro(sample_age)\n",
    "print(shapiro_age)"
   ]
  },
  {
   "cell_type": "markdown",
   "id": "0d045b0b",
   "metadata": {},
   "source": [
    "### Here we got p-value from shapiro wilk test\n",
    "### and here p > 0.05 that means the data is normal\n",
    "### and if p < 0.05 that means the data is not normal"
   ]
  },
  {
   "cell_type": "code",
   "execution_count": 17,
   "id": "7a181619",
   "metadata": {},
   "outputs": [
    {
     "name": "stdout",
     "output_type": "stream",
     "text": [
      "t-statistic: -1.409816899860755\n",
      "p-value: 0.08571092705289059\n"
     ]
    }
   ],
   "source": [
    "# Direct function to calculate the t-test\n",
    "import scipy.stats as stats\n",
    "\n",
    "t_statistic, p_value = stats.ttest_1samp(sample_age, pop_mean)\n",
    "\n",
    "print('t-statistic:',t_statistic)\n",
    "print('p-value:',p_value/2)   # Dividing by 2 because it is a One-tailed test --> H1 > 35"
   ]
  },
  {
   "cell_type": "markdown",
   "id": "3230f321",
   "metadata": {},
   "source": [
    "## Now since the p-value is less than the significance value(alpha = 0.05) then the Null Hypothesis is Wrong"
   ]
  },
  {
   "cell_type": "code",
   "execution_count": 18,
   "metadata": {},
   "outputs": [
    {
     "name": "stdout",
     "output_type": "stream",
     "text": [
      "Failed to reject the Null Hypothesis!\n"
     ]
    }
   ],
   "source": [
    "alpha = 0.05\n",
    "\n",
    "if p_value < alpha:\n",
    "  print('Null Hypothesis is Rejected!')\n",
    "else:\n",
    "  print('Failed to reject the Null Hypothesis!')"
   ]
  },
  {
   "cell_type": "markdown",
   "id": "8583a945",
   "metadata": {},
   "source": [
    "# Proof !!!!"
   ]
  },
  {
   "cell_type": "code",
   "execution_count": 19,
   "id": "f08d2c65",
   "metadata": {},
   "outputs": [
    {
     "name": "stdout",
     "output_type": "stream",
     "text": [
      "30.123927550047664\n"
     ]
    }
   ],
   "source": [
    "# Checking the population mean\n",
    "print(pop.mean())"
   ]
  },
  {
   "cell_type": "markdown",
   "id": "c437d65f",
   "metadata": {},
   "source": [
    "### So the above Output proves that the Population Mean is less than the 35 and Hence it is in favour of Alternative Hypothesis (H1)"
   ]
  },
  {
   "cell_type": "code",
   "execution_count": null,
   "metadata": {},
   "outputs": [],
   "source": []
  },
  {
   "cell_type": "markdown",
   "id": "246338f7",
   "metadata": {},
   "source": [
    "# #Independent two-sample t-test"
   ]
  },
  {
   "cell_type": "markdown",
   "id": "65057504",
   "metadata": {},
   "source": [
    "### Suppose a website owner claims that there is no difference in the avg of time spent on their web betn Desktop and Mobile users. TO test this claims , we collect data from 30 desktop users and 30 mobile users regarding the time spent on the web in minutes. The sample satistics are as following:"
   ]
  },
  {
   "cell_type": "markdown",
   "id": "c7911c65",
   "metadata": {},
   "source": [
    "### Hypothesis Setting\n",
    "### H<sub>0</sub> : Mean(Desktop) = Mean(Mobile)\n",
    "### H<sub>1</sub> : Mean(Desktop) != Mean(Desktop)"
   ]
  },
  {
   "cell_type": "code",
   "execution_count": 20,
   "id": "a75c2976",
   "metadata": {},
   "outputs": [
    {
     "name": "stdout",
     "output_type": "stream",
     "text": [
      "Shapiro-Wilk test fo desktop users: ShapiroResult(statistic=0.9783115512411942, pvalue=0.7791003299808725)\n",
      "Shapiro-Wilk test for mobile users: ShapiroResult(statistic=0.9714355768676655, pvalue=0.5791606602037616)\n"
     ]
    }
   ],
   "source": [
    "# Checking the normality of the Data\n",
    "from scipy.stats import shapiro\n",
    "\n",
    "# Input the data as lists\n",
    "desktop_users = [12,15,18,16,20,17,14,22,19,21,23,18,25,17,16,24,20,19,22,18,15,14,23,16,12,21,19,17,20,14]\n",
    "mobile_users = [10,12,14,13,16,15,11,17,14,16,18,14,20,15,14,19,16,15,17,14,12,11,18,15,10,16,15,13,16,11]\n",
    "\n",
    "#perform the shapiro test for both desktip and mobile users\n",
    "shapiro_desktop = shapiro(desktop_users)\n",
    "shapiro_mobile = shapiro(mobile_users)\n",
    "\n",
    "print('Shapiro-Wilk test fo desktop users:',shapiro_desktop)\n",
    "print('Shapiro-Wilk test for mobile users:',shapiro_mobile)"
   ]
  },
  {
   "cell_type": "code",
   "execution_count": 21,
   "id": "6654c245",
   "metadata": {},
   "outputs": [
    {
     "name": "stdout",
     "output_type": "stream",
     "text": [
      "LeveneResult(statistic=2.94395488191752, pvalue=0.09153720526741761)\n"
     ]
    }
   ],
   "source": [
    "# Now checking the Equality of Variance\n",
    "from scipy.stats import levene\n",
    "\n",
    "levene_test = levene(desktop_users,mobile_users )\n",
    "print(levene_test)"
   ]
  },
  {
   "cell_type": "markdown",
   "id": "23acb449",
   "metadata": {},
   "source": [
    "### >If p-value of Lavene test is less than the alpha = 0.05 then variance of Grp A != Grp B\n",
    "### >If p-value of Lavene test is greater than the alpha = 0.05 then variance of Grp A = Grp B\n",
    "### # In our p-value = 0.915 >> 0.05 hence, Variance of Desktop Users = Varince of Mobile Users and thus the Equality of Variance is Valid!!!"
   ]
  },
  {
   "cell_type": "code",
   "execution_count": 22,
   "id": "3f1fe173",
   "metadata": {},
   "outputs": [
    {
     "name": "stdout",
     "output_type": "stream",
     "text": [
      "2.256369746933224e-06\n"
     ]
    }
   ],
   "source": [
    "from scipy.stats import t\n",
    "\n",
    "# set the t-value and degrees of freedom\n",
    "t_value = -5.25\n",
    "\n",
    "df = 58 #(degree of freedom for two - sample t-test is df = n1 + n2 -2)\n",
    "\n",
    "# Calculate the C.D.F value\n",
    "cdf_value = t.cdf(t_value,df)\n",
    "print(cdf_value*2)"
   ]
  },
  {
   "cell_type": "markdown",
   "id": "4b27d951",
   "metadata": {},
   "source": [
    "### The area is 2.256369746933224e-06 which is very small thus we can reject the Null Hypothesis (H0)"
   ]
  },
  {
   "cell_type": "code",
   "execution_count": null,
   "id": "ae0c6325",
   "metadata": {},
   "outputs": [],
   "source": []
  },
  {
   "cell_type": "markdown",
   "id": "5a98111a",
   "metadata": {},
   "source": [
    "## Let's take an example of Avg of Male and Avg of Female cols from titanic dataset"
   ]
  },
  {
   "cell_type": "code",
   "execution_count": 23,
   "id": "47c780f6",
   "metadata": {},
   "outputs": [],
   "source": [
    "pop_male = final_df[final_df['Sex'] =='male']['Age'].dropna()\n",
    "pop_female = final_df[final_df['Sex'] == 'female']['Age'].dropna()"
   ]
  },
  {
   "cell_type": "code",
   "execution_count": 24,
   "id": "39445b7d",
   "metadata": {},
   "outputs": [],
   "source": [
    "sample_male = pop_male.sample(25)\n",
    "sample_female = pop_female.sample(25)"
   ]
  },
  {
   "cell_type": "markdown",
   "id": "f792cbfa",
   "metadata": {},
   "source": [
    "### H<sub>0</sub> : Mean(Males) == Mean(Females)\n",
    "### H<sub>1</sub> : Mean(Males) != Mean(Females)\n",
    "\n",
    "### >Significance Value (alpha) = 0.05"
   ]
  },
  {
   "cell_type": "code",
   "execution_count": 25,
   "id": "fa54eec6",
   "metadata": {},
   "outputs": [
    {
     "name": "stdout",
     "output_type": "stream",
     "text": [
      "ShapiroResult(statistic=0.9601744326923954, pvalue=0.41796030775559334)\n",
      "ShapiroResult(statistic=0.9455417011273963, pvalue=0.1985501657000351)\n"
     ]
    }
   ],
   "source": [
    "#Normality Test\n",
    "shapiro_male = shapiro(sample_male)\n",
    "shapiro_female = shapiro(sample_female)\n",
    "print(shapiro_male)\n",
    "print(shapiro_female)"
   ]
  },
  {
   "cell_type": "markdown",
   "id": "cab508ba",
   "metadata": {},
   "source": [
    "### Both are greater than 0.05 thus it follows the Normality"
   ]
  },
  {
   "cell_type": "code",
   "execution_count": 26,
   "id": "8ce46628",
   "metadata": {},
   "outputs": [
    {
     "name": "stdout",
     "output_type": "stream",
     "text": [
      "LeveneResult(statistic=0.31096138896087033, pvalue=0.5796823541647168)\n"
     ]
    }
   ],
   "source": [
    "# Equality Variance by Levene test\n",
    "\n",
    "levene_tst = levene(sample_male,sample_female)\n",
    "print(levene_tst)"
   ]
  },
  {
   "cell_type": "markdown",
   "id": "0c8cdafc",
   "metadata": {},
   "source": [
    "### p-value for levene test is greater than 0.05 thus it follows Equality Variance"
   ]
  },
  {
   "cell_type": "code",
   "execution_count": 27,
   "id": "f9031161",
   "metadata": {},
   "outputs": [
    {
     "name": "stdout",
     "output_type": "stream",
     "text": [
      "t-statistic: 3.329315765058652\n",
      "p-value: 0.0008394392423777447\n"
     ]
    }
   ],
   "source": [
    "# Now perform the t-test for two sample independent \n",
    "t_statistic1,p_value1 = stats.ttest_ind(sample_male,sample_female)\n",
    "\n",
    "print('t-statistic:', t_statistic1)\n",
    "print('p-value:',p_value1/2)"
   ]
  },
  {
   "cell_type": "markdown",
   "id": "7e8dada9",
   "metadata": {},
   "source": [
    "### Since the p-value is greater than 0.05 it means we failed to reject the Null Hypothesis"
   ]
  },
  {
   "cell_type": "code",
   "execution_count": 28,
   "id": "9a72ce50",
   "metadata": {},
   "outputs": [
    {
     "data": {
      "text/plain": [
       "31.173274596182086"
      ]
     },
     "execution_count": 28,
     "metadata": {},
     "output_type": "execute_result"
    }
   ],
   "source": [
    "# Proof!!!\n",
    "pop_male.mean()"
   ]
  },
  {
   "cell_type": "code",
   "execution_count": 29,
   "id": "be115470",
   "metadata": {},
   "outputs": [
    {
     "data": {
      "text/plain": [
       "28.182065217391305"
      ]
     },
     "execution_count": 29,
     "metadata": {},
     "output_type": "execute_result"
    }
   ],
   "source": [
    "pop_female.mean()"
   ]
  },
  {
   "cell_type": "markdown",
   "id": "c495dd5d",
   "metadata": {},
   "source": [
    "# It is almost similar"
   ]
  },
  {
   "cell_type": "markdown",
   "id": "2351d156",
   "metadata": {},
   "source": [
    "# Paired two sample test (dependent)"
   ]
  },
  {
   "cell_type": "code",
   "execution_count": 38,
   "metadata": {},
   "outputs": [],
   "source": [
    "import matplotlib.pyplot as plt"
   ]
  },
  {
   "cell_type": "code",
   "execution_count": 39,
   "id": "e26a240b",
   "metadata": {},
   "outputs": [],
   "source": [
    "before = np.array([80,92,75,68,85,78,73,90,70,88,76,84,82,77,91])\n",
    "after = np.array([78,93,81,67,88,76,74,91,69,88,77,81,80,79,88])"
   ]
  },
  {
   "cell_type": "code",
   "execution_count": 40,
   "id": "ffd511c5",
   "metadata": {},
   "outputs": [],
   "source": [
    "differences = after - before"
   ]
  },
  {
   "cell_type": "code",
   "execution_count": 42,
   "metadata": {},
   "outputs": [
    {
     "data": {
      "image/png": "[encoded data removed]",
      "text/plain": [
       "<Figure size 640x480 with 1 Axes>"
      ]
     },
     "metadata": {},
     "output_type": "display_data"
    },
    {
     "name": "stdout",
     "output_type": "stream",
     "text": [
      "Shapiros-Wilk test: ShapiroResult(statistic=0.9220571486009436, pvalue=0.20704778986900568)\n"
     ]
    }
   ],
   "source": [
    "plt.hist(differences)\n",
    "plt.title('Histogram of Weight Differences')\n",
    "plt.xlabel('Weight Differences in Kg')\n",
    "plt.ylabel('Frequency')\n",
    "plt.show()\n",
    "\n",
    "shapiro_test = stats.shapiro(differences)\n",
    "print('Shapiros-Wilk test:',shapiro_test)"
   ]
  },
  {
   "cell_type": "markdown",
   "id": "6b047db1",
   "metadata": {},
   "source": [
    "### Since the p-value 0f Shapiro-wilk test is 0.2070 > 0.05 thus it follows the normal distribution"
   ]
  },
  {
   "cell_type": "code",
   "execution_count": 44,
   "metadata": {},
   "outputs": [],
   "source": [
    "mean_diff = np.mean(differences)\n",
    "std_dev_diff = np.std(differences,ddof = 1)"
   ]
  },
  {
   "cell_type": "code",
   "execution_count": 47,
   "id": "4528110f",
   "metadata": {},
   "outputs": [],
   "source": [
    "n = len(differences)\n",
    "t_statistic =(mean_diff)/(std_dev_diff/np.sqrt(n))\n",
    "df = n-1"
   ]
  },
  {
   "cell_type": "code",
   "execution_count": 48,
   "metadata": {},
   "outputs": [
    {
     "data": {
      "text/plain": [
       "0.10482848367219182"
      ]
     },
     "execution_count": 48,
     "metadata": {},
     "output_type": "execute_result"
    }
   ],
   "source": [
    "t_statistic"
   ]
  },
  {
   "cell_type": "code",
   "execution_count": 49,
   "id": "82d05128",
   "metadata": {},
   "outputs": [],
   "source": [
    "alpha = 0.05\n",
    "p_value = stats.t.cdf(t_statistic,df)"
   ]
  },
  {
   "cell_type": "code",
   "execution_count": 50,
   "metadata": {},
   "outputs": [
    {
     "data": {
      "text/plain": [
       "0.5410005146857456"
      ]
     },
     "execution_count": 50,
     "metadata": {},
     "output_type": "execute_result"
    }
   ],
   "source": [
    "p_value"
   ]
  },
  {
   "cell_type": "markdown",
   "id": "81d1b741",
   "metadata": {},
   "source": [
    "## Here p-value > 0.05 that means we failed to reject the Null Hypothesis and that means weight before is not greater than weight after that not all people did the weight reduction....\n",
    "### > That does not means Null Hypothesis (Weight Before == Weight After) is purely true it's just we cannot reject it..."
   ]
  },
  {
   "cell_type": "code",
   "execution_count": null,
   "metadata": {},
   "outputs": [],
   "source": []
  },
  {
   "cell_type": "code",
   "execution_count": null,
   "metadata": {},
   "outputs": [],
   "source": []
  },
  {
   "cell_type": "code",
   "execution_count": null,
   "metadata": {},
   "outputs": [],
   "source": []
  },
  {
   "cell_type": "code",
   "execution_count": null,
   "metadata": {},
   "outputs": [],
   "source": []
  },
  {
   "cell_type": "code",
   "execution_count": null,
   "metadata": {},
   "outputs": [],
   "source": []
  }
 ],
 "metadata": {
  "kernelspec": {
   "display_name": "base",
   "language": "python",
   "name": "python3"
  },
  "language_info": {
   "codemirror_mode": {
    "name": "ipython",
    "version": 3
   },
   "file_extension": ".py",
   "mimetype": "text/x-python",
   "name": "python",
   "nbconvert_exporter": "python",
   "pygments_lexer": "ipython3",
   "version": "3.12.7"
  }
 },
 "nbformat": 4,
 "nbformat_minor": 5
}
